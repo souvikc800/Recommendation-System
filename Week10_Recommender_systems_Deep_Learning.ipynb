{
 "cells": [
  {
   "cell_type": "markdown",
   "metadata": {
    "id": "eJuhXOlledDt"
   },
   "source": [
    "# **Week10: Neural Collaborative Filtering for Movie Recommendations**\n",
    "\n"
   ]
  },
  {
   "cell_type": "markdown",
   "metadata": {
    "id": "LNtNXnXMJnS8"
   },
   "source": [
    "Aman Kumar"
   ]
  },
  {
   "cell_type": "markdown",
   "metadata": {
    "id": "biDgviZoedob"
   },
   "source": [
    "**References**\n",
    "\n",
    "https://www.comp.nus.edu.sg/~xiangnan/papers/ncf.pdf - Neural collaborative filtering paper\n",
    "\n",
    "https://keras.io/examples/structured_data/collaborative_filtering_movielens/"
   ]
  },
  {
   "cell_type": "markdown",
   "metadata": {
    "id": "X5we937iedvJ"
   },
   "source": [
    "## Introduction\n",
    "\n",
    "This example demonstrates\n",
    "[Collaborative filtering](https://en.wikipedia.org/wiki/Collaborative_filtering)\n",
    "using the [Movielens dataset](https://www.kaggle.com/c/movielens-100k)\n",
    "to recommend movies to users.\n",
    "The MovieLens ratings dataset lists the ratings given by a set of users to a set of movies.\n",
    "Our goal is to be able to predict ratings for movies a user has not yet watched.\n",
    "The movies with the highest predicted ratings can then be recommended to the user.\n",
    "\n",
    "The steps in the model are as follows:\n",
    "\n",
    "1. Map user ID to a \"user vector\" via an embedding matrix\n",
    "2. Map movie ID to a \"movie vector\" via an embedding matrix\n",
    "3. Compute the dot product between the user vector and movie vector, to obtain\n",
    "the a match score between the user and the movie (predicted rating).\n",
    "4. Train the embeddings via gradient descent using all known user-movie pairs.\n"
   ]
  },
  {
   "cell_type": "code",
   "execution_count": null,
   "metadata": {
    "id": "IKTNV7eWsibu"
   },
   "outputs": [],
   "source": [
    "import pandas as pd\n",
    "import numpy as np\n",
    "from zipfile import ZipFile\n",
    "import tensorflow as tf\n",
    "from tensorflow import keras\n",
    "from tensorflow.keras import layers\n",
    "from keras.models import Model, Sequential\n",
    "from pathlib import Path\n",
    "import matplotlib.pyplot as plt"
   ]
  },
  {
   "cell_type": "markdown",
   "metadata": {
    "id": "aVuaGGymsm58"
   },
   "source": [
    "## First, load the data and apply preprocessing"
   ]
  },
  {
   "cell_type": "code",
   "execution_count": null,
   "metadata": {
    "colab": {
     "base_uri": "https://localhost:8080/"
    },
    "id": "mNheDjnMssrv",
    "outputId": "6fd68b87-4683-4305-cc05-1a16181f0631"
   },
   "outputs": [
    {
     "name": "stdout",
     "output_type": "stream",
     "text": [
      "Downloading data from http://files.grouplens.org/datasets/movielens/ml-latest-small.zip\n",
      "983040/978202 [==============================] - 0s 0us/step\n",
      "Extracting all the files now...\n",
      "Done!\n"
     ]
    }
   ],
   "source": [
    "# Download the actual data from http://files.grouplens.org/datasets/movielens/ml-latest-small.zip\"\n",
    "# Use the ratings.csv file\n",
    "movielens_data_file_url = (\n",
    "    \"http://files.grouplens.org/datasets/movielens/ml-latest-small.zip\"\n",
    ")\n",
    "movielens_zipped_file = keras.utils.get_file(\n",
    "    \"ml-latest-small.zip\", movielens_data_file_url, extract=False\n",
    ")\n",
    "keras_datasets_path = Path(movielens_zipped_file).parents[0]\n",
    "movielens_dir = keras_datasets_path / \"ml-latest-small\"\n",
    "\n",
    "# Only extract the data the first time the script is run.\n",
    "if not movielens_dir.exists():\n",
    "    with ZipFile(movielens_zipped_file, \"r\") as zip:\n",
    "        # Extract files\n",
    "        print(\"Extracting all the files now...\")\n",
    "        zip.extractall(path=keras_datasets_path)\n",
    "        print(\"Done!\")\n",
    "\n",
    "ratings_file = movielens_dir / \"ratings.csv\"\n",
    "df = pd.read_csv(ratings_file)\n"
   ]
  },
  {
   "cell_type": "code",
   "execution_count": null,
   "metadata": {
    "colab": {
     "base_uri": "https://localhost:8080/",
     "height": 195
    },
    "id": "m-NtLZLIsuPS",
    "outputId": "dcd540fe-e394-40ca-8ee5-834abc0929c8"
   },
   "outputs": [
    {
     "data": {
      "text/html": [
       "<div>\n",
       "<style scoped>\n",
       "    .dataframe tbody tr th:only-of-type {\n",
       "        vertical-align: middle;\n",
       "    }\n",
       "\n",
       "    .dataframe tbody tr th {\n",
       "        vertical-align: top;\n",
       "    }\n",
       "\n",
       "    .dataframe thead th {\n",
       "        text-align: right;\n",
       "    }\n",
       "</style>\n",
       "<table border=\"1\" class=\"dataframe\">\n",
       "  <thead>\n",
       "    <tr style=\"text-align: right;\">\n",
       "      <th></th>\n",
       "      <th>userId</th>\n",
       "      <th>movieId</th>\n",
       "      <th>rating</th>\n",
       "      <th>timestamp</th>\n",
       "    </tr>\n",
       "  </thead>\n",
       "  <tbody>\n",
       "    <tr>\n",
       "      <th>0</th>\n",
       "      <td>1</td>\n",
       "      <td>1</td>\n",
       "      <td>4.0</td>\n",
       "      <td>964982703</td>\n",
       "    </tr>\n",
       "    <tr>\n",
       "      <th>1</th>\n",
       "      <td>1</td>\n",
       "      <td>3</td>\n",
       "      <td>4.0</td>\n",
       "      <td>964981247</td>\n",
       "    </tr>\n",
       "    <tr>\n",
       "      <th>2</th>\n",
       "      <td>1</td>\n",
       "      <td>6</td>\n",
       "      <td>4.0</td>\n",
       "      <td>964982224</td>\n",
       "    </tr>\n",
       "    <tr>\n",
       "      <th>3</th>\n",
       "      <td>1</td>\n",
       "      <td>47</td>\n",
       "      <td>5.0</td>\n",
       "      <td>964983815</td>\n",
       "    </tr>\n",
       "    <tr>\n",
       "      <th>4</th>\n",
       "      <td>1</td>\n",
       "      <td>50</td>\n",
       "      <td>5.0</td>\n",
       "      <td>964982931</td>\n",
       "    </tr>\n",
       "  </tbody>\n",
       "</table>\n",
       "</div>"
      ],
      "text/plain": [
       "   userId  movieId  rating  timestamp\n",
       "0       1        1     4.0  964982703\n",
       "1       1        3     4.0  964981247\n",
       "2       1        6     4.0  964982224\n",
       "3       1       47     5.0  964983815\n",
       "4       1       50     5.0  964982931"
      ]
     },
     "execution_count": 3,
     "metadata": {
      "tags": []
     },
     "output_type": "execute_result"
    }
   ],
   "source": [
    "df.head()"
   ]
  },
  {
   "cell_type": "code",
   "execution_count": null,
   "metadata": {
    "id": "Yxqf-jjRs9pY"
   },
   "outputs": [],
   "source": [
    "user_ids = df[\"userId\"].unique().tolist()\n",
    "user2user_encoded = {x: i for i, x in enumerate(user_ids)}\n",
    "userencoded2user = {i: x for i, x in enumerate(user_ids)}\n",
    "movie_ids = df[\"movieId\"].unique().tolist()\n",
    "movie2movie_encoded = {x: i for i, x in enumerate(movie_ids)}\n",
    "movie_encoded2movie = {i: x for i, x in enumerate(movie_ids)}\n",
    "df[\"user\"] = df[\"userId\"].map(user2user_encoded)\n",
    "df[\"movie\"] = df[\"movieId\"].map(movie2movie_encoded)\n"
   ]
  },
  {
   "cell_type": "code",
   "execution_count": null,
   "metadata": {
    "id": "R-9Z6Cd2K_d3"
   },
   "outputs": [],
   "source": [
    "movie2movie_encoded"
   ]
  },
  {
   "cell_type": "code",
   "execution_count": null,
   "metadata": {
    "colab": {
     "base_uri": "https://localhost:8080/",
     "height": 195
    },
    "id": "WqZFmW88KK1r",
    "outputId": "f2474689-c380-4add-d532-ea23aa18c3e9"
   },
   "outputs": [
    {
     "data": {
      "text/html": [
       "<div>\n",
       "<style scoped>\n",
       "    .dataframe tbody tr th:only-of-type {\n",
       "        vertical-align: middle;\n",
       "    }\n",
       "\n",
       "    .dataframe tbody tr th {\n",
       "        vertical-align: top;\n",
       "    }\n",
       "\n",
       "    .dataframe thead th {\n",
       "        text-align: right;\n",
       "    }\n",
       "</style>\n",
       "<table border=\"1\" class=\"dataframe\">\n",
       "  <thead>\n",
       "    <tr style=\"text-align: right;\">\n",
       "      <th></th>\n",
       "      <th>userId</th>\n",
       "      <th>movieId</th>\n",
       "      <th>rating</th>\n",
       "      <th>timestamp</th>\n",
       "      <th>user</th>\n",
       "      <th>movie</th>\n",
       "    </tr>\n",
       "  </thead>\n",
       "  <tbody>\n",
       "    <tr>\n",
       "      <th>0</th>\n",
       "      <td>1</td>\n",
       "      <td>1</td>\n",
       "      <td>4.0</td>\n",
       "      <td>964982703</td>\n",
       "      <td>0</td>\n",
       "      <td>0</td>\n",
       "    </tr>\n",
       "    <tr>\n",
       "      <th>1</th>\n",
       "      <td>1</td>\n",
       "      <td>3</td>\n",
       "      <td>4.0</td>\n",
       "      <td>964981247</td>\n",
       "      <td>0</td>\n",
       "      <td>1</td>\n",
       "    </tr>\n",
       "    <tr>\n",
       "      <th>2</th>\n",
       "      <td>1</td>\n",
       "      <td>6</td>\n",
       "      <td>4.0</td>\n",
       "      <td>964982224</td>\n",
       "      <td>0</td>\n",
       "      <td>2</td>\n",
       "    </tr>\n",
       "    <tr>\n",
       "      <th>3</th>\n",
       "      <td>1</td>\n",
       "      <td>47</td>\n",
       "      <td>5.0</td>\n",
       "      <td>964983815</td>\n",
       "      <td>0</td>\n",
       "      <td>3</td>\n",
       "    </tr>\n",
       "    <tr>\n",
       "      <th>4</th>\n",
       "      <td>1</td>\n",
       "      <td>50</td>\n",
       "      <td>5.0</td>\n",
       "      <td>964982931</td>\n",
       "      <td>0</td>\n",
       "      <td>4</td>\n",
       "    </tr>\n",
       "  </tbody>\n",
       "</table>\n",
       "</div>"
      ],
      "text/plain": [
       "   userId  movieId  rating  timestamp  user  movie\n",
       "0       1        1     4.0  964982703     0      0\n",
       "1       1        3     4.0  964981247     0      1\n",
       "2       1        6     4.0  964982224     0      2\n",
       "3       1       47     5.0  964983815     0      3\n",
       "4       1       50     5.0  964982931     0      4"
      ]
     },
     "execution_count": 5,
     "metadata": {
      "tags": []
     },
     "output_type": "execute_result"
    }
   ],
   "source": [
    "df.head()"
   ]
  },
  {
   "cell_type": "code",
   "execution_count": null,
   "metadata": {
    "colab": {
     "base_uri": "https://localhost:8080/"
    },
    "id": "rXlYQ5SFJMVl",
    "outputId": "d4ec1efe-040f-4727-acdd-401fdc8d38ae"
   },
   "outputs": [
    {
     "name": "stdout",
     "output_type": "stream",
     "text": [
      "Number of users: 610, Number of Movies: 9724, Min rating: 0.5, Max rating: 5.0\n"
     ]
    }
   ],
   "source": [
    "num_users = len(user2user_encoded)\n",
    "num_movies = len(movie2movie_encoded)\n",
    "df[\"rating\"] = df[\"rating\"].values.astype(np.float32)\n",
    "# min and max ratings will be used to normalize the ratings later\n",
    "min_rating = min(df[\"rating\"])\n",
    "max_rating = max(df[\"rating\"])\n",
    "\n",
    "print(\n",
    "    \"Number of users: {}, Number of Movies: {}, Min rating: {}, Max rating: {}\".format(\n",
    "        num_users, num_movies, min_rating, max_rating))\n"
   ]
  },
  {
   "cell_type": "markdown",
   "metadata": {
    "id": "DpAWE-UvMRIm"
   },
   "source": [
    "Random Train-Test split"
   ]
  },
  {
   "cell_type": "code",
   "execution_count": null,
   "metadata": {
    "id": "NFT70ytMvyZS"
   },
   "outputs": [],
   "source": [
    "df = df.sample(frac=1, random_state=42) # randomly sample the data-set\n",
    "x = df[[\"user\", \"movie\"]].values\n",
    "# Normalize the targets between 0 and 1. Makes it easy to train.\n",
    "y = df[\"rating\"].apply(lambda x: (x - min_rating) / (max_rating - min_rating)).values\n",
    "# Assuming training on 90% of the data and validating on 10%.\n",
    "train_indices = int(0.9 * df.shape[0])\n",
    "x_train, x_val, y_train, y_val = (\n",
    "    x[:train_indices],\n",
    "    x[train_indices:],\n",
    "    y[:train_indices],\n",
    "    y[train_indices:],\n",
    ")"
   ]
  },
  {
   "cell_type": "code",
   "execution_count": null,
   "metadata": {
    "colab": {
     "base_uri": "https://localhost:8080/"
    },
    "id": "wWU5MiHSv06L",
    "outputId": "3dcd7b7e-7039-4a75-d9f3-b284fd76a213"
   },
   "outputs": [
    {
     "data": {
      "text/plain": [
       "(90752, 2)"
      ]
     },
     "execution_count": 8,
     "metadata": {
      "tags": []
     },
     "output_type": "execute_result"
    }
   ],
   "source": [
    "x_train.shape"
   ]
  },
  {
   "cell_type": "code",
   "execution_count": null,
   "metadata": {
    "colab": {
     "base_uri": "https://localhost:8080/"
    },
    "id": "i6DI44A4v4ee",
    "outputId": "d21464cb-8829-4daa-92c3-988b6312ff0b"
   },
   "outputs": [
    {
     "data": {
      "text/plain": [
       "(90752,)"
      ]
     },
     "execution_count": 9,
     "metadata": {
      "tags": []
     },
     "output_type": "execute_result"
    }
   ],
   "source": [
    "y_train.shape"
   ]
  },
  {
   "cell_type": "code",
   "execution_count": null,
   "metadata": {
    "colab": {
     "base_uri": "https://localhost:8080/",
     "height": 754
    },
    "id": "Ta1YC3lnLTRV",
    "outputId": "73d05b97-bb67-465b-bfa6-c52f03d95875"
   },
   "outputs": [
    {
     "data": {
      "image/png": "[encoded data removed]",
      "text/plain": [
       "<IPython.core.display.Image object>"
      ]
     },
     "execution_count": 10,
     "metadata": {
      "tags": []
     },
     "output_type": "execute_result"
    }
   ],
   "source": [
    "## defining the model\n",
    "embedding_size = 50\n",
    "\n",
    "user_ips= layers.Input(shape=[1])\n",
    "user_embedding = layers.Embedding(num_users,embedding_size,embeddings_initializer=\"he_normal\",embeddings_regularizer=keras.regularizers.l2(1e-6))(user_ips)\n",
    "# Embedding layer will create 610 vectors look-up table of 50 dimension each\n",
    "user_vect= layers.Flatten()(user_embedding)\n",
    "\n",
    "movie_ips= layers.Input(shape=[1])\n",
    "movie_embedding = layers.Embedding(num_movies, embedding_size, embeddings_initializer=\"he_normal\",embeddings_regularizer=keras.regularizers.l2(1e-6))(movie_ips)\n",
    "movie_vect= layers.Flatten()(movie_embedding)\n",
    "\n",
    "prod = layers.dot(inputs=[user_vect, movie_vect],axes=1)\n",
    "\n",
    "dense1= layers.Dense(150, activation='relu', kernel_initializer=\"he_normal\")(prod)\n",
    "dense2= layers.Dense(50, activation='relu',kernel_initializer=\"he_normal\")(dense1)\n",
    "dense3= layers.Dense(1,activation='relu')(dense2)\n",
    "\n",
    "model = Model([user_ips, movie_ips], dense3)\n",
    "model.compile(optimizer='adam',loss='mean_squared_error')\n",
    "\n",
    "keras.utils.plot_model(model,show_shapes=True)"
   ]
  },
  {
   "cell_type": "code",
   "execution_count": null,
   "metadata": {
    "colab": {
     "base_uri": "https://localhost:8080/"
    },
    "id": "wKyAiUy9LPGo",
    "outputId": "31c9534e-5550-4955-c494-a7e93d5d258f"
   },
   "outputs": [
    {
     "name": "stdout",
     "output_type": "stream",
     "text": [
      "Epoch 1/10\n",
      "1418/1418 [==============================] - 10s 5ms/step - loss: 0.0748\n",
      "Epoch 2/10\n",
      "1418/1418 [==============================] - 6s 5ms/step - loss: 0.0452\n",
      "Epoch 3/10\n",
      "1418/1418 [==============================] - 6s 4ms/step - loss: 0.0339\n",
      "Epoch 4/10\n",
      "1418/1418 [==============================] - 7s 5ms/step - loss: 0.0293\n",
      "Epoch 5/10\n",
      "1418/1418 [==============================] - 7s 5ms/step - loss: 0.0243\n",
      "Epoch 6/10\n",
      "1418/1418 [==============================] - 7s 5ms/step - loss: 0.0223\n",
      "Epoch 7/10\n",
      "1418/1418 [==============================] - 7s 5ms/step - loss: 0.0200\n",
      "Epoch 8/10\n",
      "1418/1418 [==============================] - 6s 5ms/step - loss: 0.0183\n",
      "Epoch 9/10\n",
      "1418/1418 [==============================] - 7s 5ms/step - loss: 0.0177\n",
      "Epoch 10/10\n",
      "1418/1418 [==============================] - 7s 5ms/step - loss: 0.0164\n"
     ]
    }
   ],
   "source": [
    "history = model.fit([x_train[:,0], x_train[:,1]], y_train, batch_size=64,epochs=10,verbose=1)"
   ]
  },
  {
   "cell_type": "code",
   "execution_count": null,
   "metadata": {
    "colab": {
     "base_uri": "https://localhost:8080/"
    },
    "id": "D-OhPDNQx-Y_",
    "outputId": "43a8f7c8-d78c-4664-d287-94fd5aef0599"
   },
   "outputs": [
    {
     "data": {
      "text/plain": [
       "array([[0.77350986]], dtype=float32)"
      ]
     },
     "execution_count": 19,
     "metadata": {
      "tags": []
     },
     "output_type": "execute_result"
    }
   ],
   "source": [
    "pred=model.predict([x_train[4:5,0], x_train[4:5,1]])\n",
    "pred"
   ]
  },
  {
   "cell_type": "markdown",
   "metadata": {
    "id": "MrfBX_8ayA4f"
   },
   "source": [
    "Reading the movie file"
   ]
  },
  {
   "cell_type": "code",
   "execution_count": null,
   "metadata": {
    "colab": {
     "base_uri": "https://localhost:8080/",
     "height": 195
    },
    "id": "_6ljbdptyGHG",
    "outputId": "7b90e45c-1678-427a-b2da-27e44be66f4f"
   },
   "outputs": [
    {
     "data": {
      "text/html": [
       "<div>\n",
       "<style scoped>\n",
       "    .dataframe tbody tr th:only-of-type {\n",
       "        vertical-align: middle;\n",
       "    }\n",
       "\n",
       "    .dataframe tbody tr th {\n",
       "        vertical-align: top;\n",
       "    }\n",
       "\n",
       "    .dataframe thead th {\n",
       "        text-align: right;\n",
       "    }\n",
       "</style>\n",
       "<table border=\"1\" class=\"dataframe\">\n",
       "  <thead>\n",
       "    <tr style=\"text-align: right;\">\n",
       "      <th></th>\n",
       "      <th>movieId</th>\n",
       "      <th>title</th>\n",
       "      <th>genres</th>\n",
       "    </tr>\n",
       "  </thead>\n",
       "  <tbody>\n",
       "    <tr>\n",
       "      <th>0</th>\n",
       "      <td>1</td>\n",
       "      <td>Toy Story (1995)</td>\n",
       "      <td>Adventure|Animation|Children|Comedy|Fantasy</td>\n",
       "    </tr>\n",
       "    <tr>\n",
       "      <th>1</th>\n",
       "      <td>2</td>\n",
       "      <td>Jumanji (1995)</td>\n",
       "      <td>Adventure|Children|Fantasy</td>\n",
       "    </tr>\n",
       "    <tr>\n",
       "      <th>2</th>\n",
       "      <td>3</td>\n",
       "      <td>Grumpier Old Men (1995)</td>\n",
       "      <td>Comedy|Romance</td>\n",
       "    </tr>\n",
       "    <tr>\n",
       "      <th>3</th>\n",
       "      <td>4</td>\n",
       "      <td>Waiting to Exhale (1995)</td>\n",
       "      <td>Comedy|Drama|Romance</td>\n",
       "    </tr>\n",
       "    <tr>\n",
       "      <th>4</th>\n",
       "      <td>5</td>\n",
       "      <td>Father of the Bride Part II (1995)</td>\n",
       "      <td>Comedy</td>\n",
       "    </tr>\n",
       "  </tbody>\n",
       "</table>\n",
       "</div>"
      ],
      "text/plain": [
       "   movieId  ...                                       genres\n",
       "0        1  ...  Adventure|Animation|Children|Comedy|Fantasy\n",
       "1        2  ...                   Adventure|Children|Fantasy\n",
       "2        3  ...                               Comedy|Romance\n",
       "3        4  ...                         Comedy|Drama|Romance\n",
       "4        5  ...                                       Comedy\n",
       "\n",
       "[5 rows x 3 columns]"
      ]
     },
     "execution_count": 20,
     "metadata": {
      "tags": []
     },
     "output_type": "execute_result"
    }
   ],
   "source": [
    "movie_df = pd.read_csv(movielens_dir / \"movies.csv\")\n",
    "movie_df.head()"
   ]
  },
  {
   "cell_type": "code",
   "execution_count": null,
   "metadata": {
    "id": "WERKxm0EyNQb"
   },
   "outputs": [],
   "source": [
    "user_id = df.userId.sample(1).iloc[0]\n",
    "movies_watched_by_user = df[df.userId == user_id]\n",
    "movies_not_watched = movie_df[ ~movie_df[\"movieId\"].isin(movies_watched_by_user.movieId.values)][\"movieId\"]"
   ]
  },
  {
   "cell_type": "code",
   "execution_count": null,
   "metadata": {
    "colab": {
     "base_uri": "https://localhost:8080/"
    },
    "id": "CvmAvc9h2C-1",
    "outputId": "8f4b1ab1-9850-4344-dd30-d20577d3a76f"
   },
   "outputs": [
    {
     "data": {
      "text/plain": [
       "490"
      ]
     },
     "execution_count": 22,
     "metadata": {
      "tags": []
     },
     "output_type": "execute_result"
    }
   ],
   "source": [
    "user_id"
   ]
  },
  {
   "cell_type": "code",
   "execution_count": null,
   "metadata": {
    "colab": {
     "base_uri": "https://localhost:8080/",
     "height": 195
    },
    "id": "NyqS2fkv1xQ9",
    "outputId": "5588b05c-63f5-42fd-9672-ebb2cf04d839"
   },
   "outputs": [
    {
     "data": {
      "text/html": [
       "<div>\n",
       "<style scoped>\n",
       "    .dataframe tbody tr th:only-of-type {\n",
       "        vertical-align: middle;\n",
       "    }\n",
       "\n",
       "    .dataframe tbody tr th {\n",
       "        vertical-align: top;\n",
       "    }\n",
       "\n",
       "    .dataframe thead th {\n",
       "        text-align: right;\n",
       "    }\n",
       "</style>\n",
       "<table border=\"1\" class=\"dataframe\">\n",
       "  <thead>\n",
       "    <tr style=\"text-align: right;\">\n",
       "      <th></th>\n",
       "      <th>userId</th>\n",
       "      <th>movieId</th>\n",
       "      <th>rating</th>\n",
       "      <th>timestamp</th>\n",
       "      <th>user</th>\n",
       "      <th>movie</th>\n",
       "    </tr>\n",
       "  </thead>\n",
       "  <tbody>\n",
       "    <tr>\n",
       "      <th>79177</th>\n",
       "      <td>490</td>\n",
       "      <td>35836</td>\n",
       "      <td>3.0</td>\n",
       "      <td>1328145414</td>\n",
       "      <td>489</td>\n",
       "      <td>2126</td>\n",
       "    </tr>\n",
       "    <tr>\n",
       "      <th>79165</th>\n",
       "      <td>490</td>\n",
       "      <td>6539</td>\n",
       "      <td>3.0</td>\n",
       "      <td>1328145462</td>\n",
       "      <td>489</td>\n",
       "      <td>770</td>\n",
       "    </tr>\n",
       "    <tr>\n",
       "      <th>79154</th>\n",
       "      <td>490</td>\n",
       "      <td>4973</td>\n",
       "      <td>4.0</td>\n",
       "      <td>1334940456</td>\n",
       "      <td>489</td>\n",
       "      <td>1125</td>\n",
       "    </tr>\n",
       "    <tr>\n",
       "      <th>79162</th>\n",
       "      <td>490</td>\n",
       "      <td>6333</td>\n",
       "      <td>2.5</td>\n",
       "      <td>1328145443</td>\n",
       "      <td>489</td>\n",
       "      <td>767</td>\n",
       "    </tr>\n",
       "    <tr>\n",
       "      <th>79203</th>\n",
       "      <td>490</td>\n",
       "      <td>69757</td>\n",
       "      <td>4.0</td>\n",
       "      <td>1324370902</td>\n",
       "      <td>489</td>\n",
       "      <td>1059</td>\n",
       "    </tr>\n",
       "  </tbody>\n",
       "</table>\n",
       "</div>"
      ],
      "text/plain": [
       "       userId  movieId  rating   timestamp  user  movie\n",
       "79177     490    35836     3.0  1328145414   489   2126\n",
       "79165     490     6539     3.0  1328145462   489    770\n",
       "79154     490     4973     4.0  1334940456   489   1125\n",
       "79162     490     6333     2.5  1328145443   489    767\n",
       "79203     490    69757     4.0  1324370902   489   1059"
      ]
     },
     "execution_count": 24,
     "metadata": {
      "tags": []
     },
     "output_type": "execute_result"
    }
   ],
   "source": [
    "movies_watched_by_user.head()"
   ]
  },
  {
   "cell_type": "code",
   "execution_count": null,
   "metadata": {
    "colab": {
     "base_uri": "https://localhost:8080/"
    },
    "id": "akc1UKhX1xU9",
    "outputId": "1e1c37bf-7155-4e3b-8f4d-a44750c1c6b9"
   },
   "outputs": [
    {
     "data": {
      "text/plain": [
       "1            2\n",
       "2            3\n",
       "3            4\n",
       "5            6\n",
       "6            7\n",
       "         ...  \n",
       "9737    193581\n",
       "9738    193583\n",
       "9739    193585\n",
       "9740    193587\n",
       "9741    193609\n",
       "Name: movieId, Length: 9629, dtype: int64"
      ]
     },
     "execution_count": 25,
     "metadata": {
      "tags": []
     },
     "output_type": "execute_result"
    }
   ],
   "source": [
    "movies_not_watched"
   ]
  },
  {
   "cell_type": "code",
   "execution_count": null,
   "metadata": {
    "id": "qufcsUoe1xZq"
   },
   "outputs": [],
   "source": [
    "## basically inner join between movies_not_watched and movie ids from df table (to be sure that the movie ids are not out of place)\n",
    "movies_not_watched = list(\n",
    "    set(movies_not_watched).intersection(set(movie2movie_encoded.keys()))\n",
    ")\n",
    "movies_not_watched"
   ]
  },
  {
   "cell_type": "code",
   "execution_count": null,
   "metadata": {
    "id": "DHpCijGt4ZAe"
   },
   "outputs": [],
   "source": [
    "movies_not_watched_index = [[movie2movie_encoded.get(x)] for x in movies_not_watched]  # get the indexes of the movies not watched by the user\n",
    "movies_not_watched_index"
   ]
  },
  {
   "cell_type": "code",
   "execution_count": null,
   "metadata": {
    "colab": {
     "base_uri": "https://localhost:8080/"
    },
    "id": "UjV1eNnv5Cc9",
    "outputId": "05dd801c-2404-4d04-8b46-e79bcc7a2b26"
   },
   "outputs": [
    {
     "data": {
      "text/plain": [
       "489"
      ]
     },
     "execution_count": 28,
     "metadata": {
      "tags": []
     },
     "output_type": "execute_result"
    }
   ],
   "source": [
    "user_encoder = user2user_encoded.get(user_id)\n",
    "user_encoder"
   ]
  },
  {
   "cell_type": "code",
   "execution_count": null,
   "metadata": {
    "colab": {
     "base_uri": "https://localhost:8080/"
    },
    "id": "oTxMaQFO5CqQ",
    "outputId": "4a2524f5-1515-4083-98ab-b76168329fd0"
   },
   "outputs": [
    {
     "data": {
      "text/plain": [
       "array([[ 489, 5804],\n",
       "       [ 489,  481],\n",
       "       [ 489,    1],\n",
       "       ...,\n",
       "       [ 489, 3870],\n",
       "       [ 489, 2989],\n",
       "       [ 489, 7869]])"
      ]
     },
     "execution_count": 29,
     "metadata": {
      "tags": []
     },
     "output_type": "execute_result"
    }
   ],
   "source": [
    "user_movie_array = np.hstack(([[user_encoder]] * len(movies_not_watched), movies_not_watched_index))\n",
    "user_movie_array ## 1st column is user_index and 2nd col is the list of movie indexes not watched by the user"
   ]
  },
  {
   "cell_type": "code",
   "execution_count": null,
   "metadata": {
    "colab": {
     "base_uri": "https://localhost:8080/"
    },
    "id": "TtxD49AO5CtO",
    "outputId": "741fd39e-cdf2-457d-d0f3-5e3d168fdce0"
   },
   "outputs": [
    {
     "data": {
      "text/plain": [
       "array([0.42482403, 0.6214962 , 0.53197205, ..., 0.38191038, 0.62052035,\n",
       "       0.33445033], dtype=float32)"
      ]
     },
     "execution_count": 31,
     "metadata": {
      "tags": []
     },
     "output_type": "execute_result"
    }
   ],
   "source": [
    "ratings = model.predict([user_movie_array[:,0],user_movie_array[:,1]]).flatten()\n",
    "ratings"
   ]
  },
  {
   "cell_type": "code",
   "execution_count": null,
   "metadata": {
    "id": "s2PkKL2z5Cwt"
   },
   "outputs": [],
   "source": [
    "top_ratings_indices = ratings.argsort()[-10:][::-1] # indices of highest 10 ratings"
   ]
  },
  {
   "cell_type": "code",
   "execution_count": null,
   "metadata": {
    "id": "sXvrSWD36C4t"
   },
   "outputs": [],
   "source": [
    "recommended_movie_ids = [movie_encoded2movie.get(movies_not_watched_index[x][0]) for x in top_ratings_indices]"
   ]
  },
  {
   "cell_type": "code",
   "execution_count": null,
   "metadata": {
    "colab": {
     "base_uri": "https://localhost:8080/"
    },
    "id": "g1PT4Tpz6C7s",
    "outputId": "f2d8ad0f-ec87-4030-bd7a-6208855e0804"
   },
   "outputs": [
    {
     "name": "stdout",
     "output_type": "stream",
     "text": [
      "Showing recommendations for user: 490\n",
      "====================================\n",
      "Movies with high ratings from user\n",
      "--------------------------------\n",
      "Three Colors: Red (Trois couleurs: Rouge) (1994) : Drama\n",
      "Three Colors: Blue (Trois couleurs: Bleu) (1993) : Drama\n",
      "8 1/2 (8½) (1963) : Drama|Fantasy\n",
      "In the Mood For Love (Fa yeung nin wa) (2000) : Drama|Romance\n",
      "Ikiru (1952) : Drama\n"
     ]
    }
   ],
   "source": [
    "print(\"Showing recommendations for user: {}\".format(user_id))\n",
    "print(\"====\" * 9)\n",
    "print(\"Movies with high ratings from user\")\n",
    "print(\"----\" * 8)\n",
    "top_movies_user = (\n",
    "    movies_watched_by_user.sort_values(by=\"rating\", ascending=False)\n",
    "    .head(5)\n",
    "    .movieId.values\n",
    ")\n",
    "movie_df_rows = movie_df[movie_df[\"movieId\"].isin(top_movies_user)]\n",
    "for row in movie_df_rows.itertuples():\n",
    "    print(row.title, \":\", row.genres)\n"
   ]
  },
  {
   "cell_type": "code",
   "execution_count": null,
   "metadata": {
    "colab": {
     "base_uri": "https://localhost:8080/"
    },
    "id": "841EkWkd6C-Z",
    "outputId": "a842ba5f-f801-423e-c67a-bcff3210b0d8"
   },
   "outputs": [
    {
     "name": "stdout",
     "output_type": "stream",
     "text": [
      "--------------------------------\n",
      "Top 10 movie recommendations\n",
      "--------------------------------\n",
      "Outbreak (1995) : Action|Drama|Sci-Fi|Thriller\n",
      "Blade Runner (1982) : Action|Sci-Fi|Thriller\n",
      "One Flew Over the Cuckoo's Nest (1975) : Drama\n",
      "Groundhog Day (1993) : Comedy|Fantasy|Romance\n",
      "Starship Troopers (1997) : Action|Sci-Fi\n",
      "Life Is Beautiful (La Vita è bella) (1997) : Comedy|Drama|Romance|War\n",
      "Billy Elliot (2000) : Drama\n",
      "Monsters, Inc. (2001) : Adventure|Animation|Children|Comedy|Fantasy\n",
      "Incredibles, The (2004) : Action|Adventure|Animation|Children|Comedy\n",
      "Hitchhiker's Guide to the Galaxy, The (2005) : Adventure|Comedy|Sci-Fi\n"
     ]
    }
   ],
   "source": [
    "print(\"----\" * 8)\n",
    "print(\"Top 10 movie recommendations\")\n",
    "print(\"----\" * 8)\n",
    "recommended_movies = movie_df[movie_df[\"movieId\"].isin(recommended_movie_ids)]\n",
    "for row in recommended_movies.itertuples():\n",
    "    print(row.title, \":\", row.genres)\n"
   ]
  }
 ],
 "metadata": {
  "accelerator": "GPU",
  "colab": {
   "collapsed_sections": [],
   "name": "Week10_Recommender_systems_Deep -Learning.ipynb",
   "provenance": []
  },
  "kernelspec": {
   "display_name": "Python 3 (ipykernel)",
   "language": "python",
   "name": "python3"
  },
  "language_info": {
   "codemirror_mode": {
    "name": "ipython",
    "version": 3
   },
   "file_extension": ".py",
   "mimetype": "text/x-python",
   "name": "python",
   "nbconvert_exporter": "python",
   "pygments_lexer": "ipython3",
   "version": "3.10.9"
  }
 },
 "nbformat": 4,
 "nbformat_minor": 1
}
